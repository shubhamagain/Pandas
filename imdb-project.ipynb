{
 "cells": [
  {
   "cell_type": "code",
   "execution_count": 1,
   "id": "c171a3e6",
   "metadata": {},
   "outputs": [],
   "source": [
    "import numpy as np                     \n",
    "import pandas as pd                   \n",
    "\n",
    "import matplotlib.pyplot as plt        \n",
    "import seaborn as sns                   \n"
   ]
  },
  {
   "cell_type": "code",
   "execution_count": 2,
   "id": "7b398f3f",
   "metadata": {},
   "outputs": [
    {
     "data": {
      "text/html": [
       "<div>\n",
       "<style scoped>\n",
       "    .dataframe tbody tr th:only-of-type {\n",
       "        vertical-align: middle;\n",
       "    }\n",
       "\n",
       "    .dataframe tbody tr th {\n",
       "        vertical-align: top;\n",
       "    }\n",
       "\n",
       "    .dataframe thead th {\n",
       "        text-align: right;\n",
       "    }\n",
       "</style>\n",
       "<table border=\"1\" class=\"dataframe\">\n",
       "  <thead>\n",
       "    <tr style=\"text-align: right;\">\n",
       "      <th></th>\n",
       "      <th>Poster_Link</th>\n",
       "      <th>Series_Title</th>\n",
       "      <th>Released_Year</th>\n",
       "      <th>Certificate</th>\n",
       "      <th>Runtime</th>\n",
       "      <th>Genre</th>\n",
       "      <th>IMDB_Rating</th>\n",
       "      <th>Overview</th>\n",
       "      <th>Meta_score</th>\n",
       "      <th>Director</th>\n",
       "      <th>Star1</th>\n",
       "      <th>Star2</th>\n",
       "      <th>Star3</th>\n",
       "      <th>Star4</th>\n",
       "      <th>No_of_Votes</th>\n",
       "      <th>Gross</th>\n",
       "    </tr>\n",
       "  </thead>\n",
       "  <tbody>\n",
       "    <tr>\n",
       "      <th>0</th>\n",
       "      <td>https://m.media-amazon.com/images/M/MV5BMDFkYT...</td>\n",
       "      <td>The Shawshank Redemption</td>\n",
       "      <td>1994</td>\n",
       "      <td>A</td>\n",
       "      <td>142 min</td>\n",
       "      <td>Drama</td>\n",
       "      <td>9.3</td>\n",
       "      <td>Two imprisoned men bond over a number of years...</td>\n",
       "      <td>80.0</td>\n",
       "      <td>Frank Darabont</td>\n",
       "      <td>Tim Robbins</td>\n",
       "      <td>Morgan Freeman</td>\n",
       "      <td>Bob Gunton</td>\n",
       "      <td>William Sadler</td>\n",
       "      <td>2343110</td>\n",
       "      <td>28,341,469</td>\n",
       "    </tr>\n",
       "    <tr>\n",
       "      <th>1</th>\n",
       "      <td>https://m.media-amazon.com/images/M/MV5BM2MyNj...</td>\n",
       "      <td>The Godfather</td>\n",
       "      <td>1972</td>\n",
       "      <td>A</td>\n",
       "      <td>175 min</td>\n",
       "      <td>Crime, Drama</td>\n",
       "      <td>9.2</td>\n",
       "      <td>An organized crime dynasty's aging patriarch t...</td>\n",
       "      <td>100.0</td>\n",
       "      <td>Francis Ford Coppola</td>\n",
       "      <td>Marlon Brando</td>\n",
       "      <td>Al Pacino</td>\n",
       "      <td>James Caan</td>\n",
       "      <td>Diane Keaton</td>\n",
       "      <td>1620367</td>\n",
       "      <td>134,966,411</td>\n",
       "    </tr>\n",
       "    <tr>\n",
       "      <th>2</th>\n",
       "      <td>https://m.media-amazon.com/images/M/MV5BMTMxNT...</td>\n",
       "      <td>The Dark Knight</td>\n",
       "      <td>2008</td>\n",
       "      <td>UA</td>\n",
       "      <td>152 min</td>\n",
       "      <td>Action, Crime, Drama</td>\n",
       "      <td>9.0</td>\n",
       "      <td>When the menace known as the Joker wreaks havo...</td>\n",
       "      <td>84.0</td>\n",
       "      <td>Christopher Nolan</td>\n",
       "      <td>Christian Bale</td>\n",
       "      <td>Heath Ledger</td>\n",
       "      <td>Aaron Eckhart</td>\n",
       "      <td>Michael Caine</td>\n",
       "      <td>2303232</td>\n",
       "      <td>534,858,444</td>\n",
       "    </tr>\n",
       "    <tr>\n",
       "      <th>3</th>\n",
       "      <td>https://m.media-amazon.com/images/M/MV5BMWMwMG...</td>\n",
       "      <td>The Godfather: Part II</td>\n",
       "      <td>1974</td>\n",
       "      <td>A</td>\n",
       "      <td>202 min</td>\n",
       "      <td>Crime, Drama</td>\n",
       "      <td>9.0</td>\n",
       "      <td>The early life and career of Vito Corleone in ...</td>\n",
       "      <td>90.0</td>\n",
       "      <td>Francis Ford Coppola</td>\n",
       "      <td>Al Pacino</td>\n",
       "      <td>Robert De Niro</td>\n",
       "      <td>Robert Duvall</td>\n",
       "      <td>Diane Keaton</td>\n",
       "      <td>1129952</td>\n",
       "      <td>57,300,000</td>\n",
       "    </tr>\n",
       "    <tr>\n",
       "      <th>4</th>\n",
       "      <td>https://m.media-amazon.com/images/M/MV5BMWU4N2...</td>\n",
       "      <td>12 Angry Men</td>\n",
       "      <td>1957</td>\n",
       "      <td>U</td>\n",
       "      <td>96 min</td>\n",
       "      <td>Crime, Drama</td>\n",
       "      <td>9.0</td>\n",
       "      <td>A jury holdout attempts to prevent a miscarria...</td>\n",
       "      <td>96.0</td>\n",
       "      <td>Sidney Lumet</td>\n",
       "      <td>Henry Fonda</td>\n",
       "      <td>Lee J. Cobb</td>\n",
       "      <td>Martin Balsam</td>\n",
       "      <td>John Fiedler</td>\n",
       "      <td>689845</td>\n",
       "      <td>4,360,000</td>\n",
       "    </tr>\n",
       "  </tbody>\n",
       "</table>\n",
       "</div>"
      ],
      "text/plain": [
       "                                         Poster_Link  \\\n",
       "0  https://m.media-amazon.com/images/M/MV5BMDFkYT...   \n",
       "1  https://m.media-amazon.com/images/M/MV5BM2MyNj...   \n",
       "2  https://m.media-amazon.com/images/M/MV5BMTMxNT...   \n",
       "3  https://m.media-amazon.com/images/M/MV5BMWMwMG...   \n",
       "4  https://m.media-amazon.com/images/M/MV5BMWU4N2...   \n",
       "\n",
       "               Series_Title Released_Year Certificate  Runtime  \\\n",
       "0  The Shawshank Redemption          1994           A  142 min   \n",
       "1             The Godfather          1972           A  175 min   \n",
       "2           The Dark Knight          2008          UA  152 min   \n",
       "3    The Godfather: Part II          1974           A  202 min   \n",
       "4              12 Angry Men          1957           U   96 min   \n",
       "\n",
       "                  Genre  IMDB_Rating  \\\n",
       "0                 Drama          9.3   \n",
       "1          Crime, Drama          9.2   \n",
       "2  Action, Crime, Drama          9.0   \n",
       "3          Crime, Drama          9.0   \n",
       "4          Crime, Drama          9.0   \n",
       "\n",
       "                                            Overview  Meta_score  \\\n",
       "0  Two imprisoned men bond over a number of years...        80.0   \n",
       "1  An organized crime dynasty's aging patriarch t...       100.0   \n",
       "2  When the menace known as the Joker wreaks havo...        84.0   \n",
       "3  The early life and career of Vito Corleone in ...        90.0   \n",
       "4  A jury holdout attempts to prevent a miscarria...        96.0   \n",
       "\n",
       "               Director           Star1           Star2          Star3  \\\n",
       "0        Frank Darabont     Tim Robbins  Morgan Freeman     Bob Gunton   \n",
       "1  Francis Ford Coppola   Marlon Brando       Al Pacino     James Caan   \n",
       "2     Christopher Nolan  Christian Bale    Heath Ledger  Aaron Eckhart   \n",
       "3  Francis Ford Coppola       Al Pacino  Robert De Niro  Robert Duvall   \n",
       "4          Sidney Lumet     Henry Fonda     Lee J. Cobb  Martin Balsam   \n",
       "\n",
       "            Star4  No_of_Votes        Gross  \n",
       "0  William Sadler      2343110   28,341,469  \n",
       "1    Diane Keaton      1620367  134,966,411  \n",
       "2   Michael Caine      2303232  534,858,444  \n",
       "3    Diane Keaton      1129952   57,300,000  \n",
       "4    John Fiedler       689845    4,360,000  "
      ]
     },
     "execution_count": 2,
     "metadata": {},
     "output_type": "execute_result"
    }
   ],
   "source": [
    "df=pd.read_csv('imdb.csv')\n",
    "df.head()"
   ]
  },
  {
   "cell_type": "code",
   "execution_count": 3,
   "id": "fdb81235",
   "metadata": {},
   "outputs": [
    {
     "data": {
      "text/plain": [
       "Index(['Poster_Link', 'Series_Title', 'Released_Year', 'Certificate',\n",
       "       'Runtime', 'Genre', 'IMDB_Rating', 'Overview', 'Meta_score', 'Director',\n",
       "       'Star1', 'Star2', 'Star3', 'Star4', 'No_of_Votes', 'Gross'],\n",
       "      dtype='object')"
      ]
     },
     "execution_count": 3,
     "metadata": {},
     "output_type": "execute_result"
    }
   ],
   "source": [
    "df.columns"
   ]
  },
  {
   "cell_type": "code",
   "execution_count": 4,
   "id": "ca259cd0",
   "metadata": {},
   "outputs": [],
   "source": [
    "df.rename(columns={'Series_Title':'Movie',},inplace=True)"
   ]
  },
  {
   "cell_type": "code",
   "execution_count": 5,
   "id": "032c39c7",
   "metadata": {},
   "outputs": [],
   "source": [
    "#removing unnecessary features\n",
    "\n",
    "df=df.drop(['Poster_Link','Overview'],axis=1)"
   ]
  },
  {
   "cell_type": "code",
   "execution_count": 6,
   "id": "391c2475",
   "metadata": {},
   "outputs": [
    {
     "data": {
      "text/html": [
       "<div>\n",
       "<style scoped>\n",
       "    .dataframe tbody tr th:only-of-type {\n",
       "        vertical-align: middle;\n",
       "    }\n",
       "\n",
       "    .dataframe tbody tr th {\n",
       "        vertical-align: top;\n",
       "    }\n",
       "\n",
       "    .dataframe thead th {\n",
       "        text-align: right;\n",
       "    }\n",
       "</style>\n",
       "<table border=\"1\" class=\"dataframe\">\n",
       "  <thead>\n",
       "    <tr style=\"text-align: right;\">\n",
       "      <th></th>\n",
       "      <th>Movie</th>\n",
       "      <th>Released_Year</th>\n",
       "      <th>Certificate</th>\n",
       "      <th>Runtime</th>\n",
       "      <th>Genre</th>\n",
       "      <th>IMDB_Rating</th>\n",
       "      <th>Meta_score</th>\n",
       "      <th>Director</th>\n",
       "      <th>Star1</th>\n",
       "      <th>Star2</th>\n",
       "      <th>Star3</th>\n",
       "      <th>Star4</th>\n",
       "      <th>No_of_Votes</th>\n",
       "      <th>Gross</th>\n",
       "    </tr>\n",
       "  </thead>\n",
       "  <tbody>\n",
       "    <tr>\n",
       "      <th>0</th>\n",
       "      <td>The Shawshank Redemption</td>\n",
       "      <td>1994</td>\n",
       "      <td>A</td>\n",
       "      <td>142 min</td>\n",
       "      <td>Drama</td>\n",
       "      <td>9.3</td>\n",
       "      <td>80.0</td>\n",
       "      <td>Frank Darabont</td>\n",
       "      <td>Tim Robbins</td>\n",
       "      <td>Morgan Freeman</td>\n",
       "      <td>Bob Gunton</td>\n",
       "      <td>William Sadler</td>\n",
       "      <td>2343110</td>\n",
       "      <td>28,341,469</td>\n",
       "    </tr>\n",
       "    <tr>\n",
       "      <th>1</th>\n",
       "      <td>The Godfather</td>\n",
       "      <td>1972</td>\n",
       "      <td>A</td>\n",
       "      <td>175 min</td>\n",
       "      <td>Crime, Drama</td>\n",
       "      <td>9.2</td>\n",
       "      <td>100.0</td>\n",
       "      <td>Francis Ford Coppola</td>\n",
       "      <td>Marlon Brando</td>\n",
       "      <td>Al Pacino</td>\n",
       "      <td>James Caan</td>\n",
       "      <td>Diane Keaton</td>\n",
       "      <td>1620367</td>\n",
       "      <td>134,966,411</td>\n",
       "    </tr>\n",
       "  </tbody>\n",
       "</table>\n",
       "</div>"
      ],
      "text/plain": [
       "                      Movie Released_Year Certificate  Runtime         Genre  \\\n",
       "0  The Shawshank Redemption          1994           A  142 min         Drama   \n",
       "1             The Godfather          1972           A  175 min  Crime, Drama   \n",
       "\n",
       "   IMDB_Rating  Meta_score              Director          Star1  \\\n",
       "0          9.3        80.0        Frank Darabont    Tim Robbins   \n",
       "1          9.2       100.0  Francis Ford Coppola  Marlon Brando   \n",
       "\n",
       "            Star2       Star3           Star4  No_of_Votes        Gross  \n",
       "0  Morgan Freeman  Bob Gunton  William Sadler      2343110   28,341,469  \n",
       "1       Al Pacino  James Caan    Diane Keaton      1620367  134,966,411  "
      ]
     },
     "execution_count": 6,
     "metadata": {},
     "output_type": "execute_result"
    }
   ],
   "source": [
    "df.head(2)"
   ]
  },
  {
   "cell_type": "code",
   "execution_count": 7,
   "id": "b1df185c",
   "metadata": {},
   "outputs": [
    {
     "name": "stdout",
     "output_type": "stream",
     "text": [
      "<class 'pandas.core.frame.DataFrame'>\n",
      "RangeIndex: 1000 entries, 0 to 999\n",
      "Data columns (total 14 columns):\n",
      " #   Column         Non-Null Count  Dtype  \n",
      "---  ------         --------------  -----  \n",
      " 0   Movie          1000 non-null   object \n",
      " 1   Released_Year  1000 non-null   object \n",
      " 2   Certificate    899 non-null    object \n",
      " 3   Runtime        1000 non-null   object \n",
      " 4   Genre          1000 non-null   object \n",
      " 5   IMDB_Rating    1000 non-null   float64\n",
      " 6   Meta_score     843 non-null    float64\n",
      " 7   Director       1000 non-null   object \n",
      " 8   Star1          1000 non-null   object \n",
      " 9   Star2          1000 non-null   object \n",
      " 10  Star3          1000 non-null   object \n",
      " 11  Star4          1000 non-null   object \n",
      " 12  No_of_Votes    1000 non-null   int64  \n",
      " 13  Gross          831 non-null    object \n",
      "dtypes: float64(2), int64(1), object(11)\n",
      "memory usage: 109.5+ KB\n"
     ]
    }
   ],
   "source": [
    "df.info()"
   ]
  },
  {
   "cell_type": "code",
   "execution_count": 8,
   "id": "8a708cf3",
   "metadata": {},
   "outputs": [
    {
     "data": {
      "text/plain": [
       "Movie              0\n",
       "Released_Year      0\n",
       "Certificate      101\n",
       "Runtime            0\n",
       "Genre              0\n",
       "IMDB_Rating        0\n",
       "Meta_score       157\n",
       "Director           0\n",
       "Star1              0\n",
       "Star2              0\n",
       "Star3              0\n",
       "Star4              0\n",
       "No_of_Votes        0\n",
       "Gross            169\n",
       "dtype: int64"
      ]
     },
     "execution_count": 8,
     "metadata": {},
     "output_type": "execute_result"
    }
   ],
   "source": [
    "df.isnull().sum()"
   ]
  },
  {
   "cell_type": "code",
   "execution_count": 9,
   "id": "1e723fda",
   "metadata": {},
   "outputs": [
    {
     "data": {
      "text/plain": [
       "0       28341469.0\n",
       "1      134966411.0\n",
       "2      534858444.0\n",
       "3       57300000.0\n",
       "4        4360000.0\n",
       "          ...     \n",
       "995            NaN\n",
       "996            NaN\n",
       "997     30500000.0\n",
       "998            NaN\n",
       "999            NaN\n",
       "Name: Gross, Length: 1000, dtype: float64"
      ]
     },
     "execution_count": 9,
     "metadata": {},
     "output_type": "execute_result"
    }
   ],
   "source": [
    "df.Gross = df.Gross[df.Gross.notnull()].apply(lambda x: x.replace(',', '')).astype('int')\n",
    "df.Gross"
   ]
  },
  {
   "cell_type": "code",
   "execution_count": 10,
   "id": "d5ef6c1c",
   "metadata": {},
   "outputs": [
    {
     "data": {
      "text/plain": [
       "count    8.310000e+02\n",
       "mean     6.803475e+07\n",
       "std      1.097500e+08\n",
       "min      1.305000e+03\n",
       "25%      3.253559e+06\n",
       "50%      2.353089e+07\n",
       "75%      8.075089e+07\n",
       "max      9.366622e+08\n",
       "Name: Gross, dtype: float64"
      ]
     },
     "execution_count": 10,
     "metadata": {},
     "output_type": "execute_result"
    }
   ],
   "source": [
    "df.Gross.describe()"
   ]
  },
  {
   "cell_type": "code",
   "execution_count": 11,
   "id": "a77b2c24",
   "metadata": {},
   "outputs": [
    {
     "data": {
      "text/plain": [
       "(548,)"
      ]
     },
     "execution_count": 11,
     "metadata": {},
     "output_type": "execute_result"
    }
   ],
   "source": [
    "df['Director'].unique().shape"
   ]
  },
  {
   "cell_type": "code",
   "execution_count": 12,
   "id": "327d56b8",
   "metadata": {},
   "outputs": [
    {
     "data": {
      "text/plain": [
       "169"
      ]
     },
     "execution_count": 12,
     "metadata": {},
     "output_type": "execute_result"
    }
   ],
   "source": [
    "df.Gross.isnull().sum()"
   ]
  },
  {
   "cell_type": "code",
   "execution_count": 13,
   "id": "d3182f9a",
   "metadata": {},
   "outputs": [
    {
     "data": {
      "text/plain": [
       "Akira Kurosawa      6\n",
       "Alfred Hitchcock    5\n",
       "Ingmar Bergman      4\n",
       "Howard Hawks        4\n",
       "Hayao Miyazaki      4\n",
       "                   ..\n",
       "Luis Buñuel         1\n",
       "Sidney Lumet        1\n",
       "David Lynch         1\n",
       "Aditya Chopra       1\n",
       "George Stevens      1\n",
       "Name: Director, Length: 127, dtype: int64"
      ]
     },
     "execution_count": 13,
     "metadata": {},
     "output_type": "execute_result"
    }
   ],
   "source": [
    "\n",
    "df['Director'][df.Gross.isnull()].value_counts()"
   ]
  },
  {
   "cell_type": "code",
   "execution_count": 14,
   "id": "fea8e512",
   "metadata": {},
   "outputs": [
    {
     "data": {
      "text/plain": [
       "31      269061.0\n",
       "77           NaN\n",
       "121      55240.0\n",
       "172    4135750.0\n",
       "181          NaN\n",
       "189      96568.0\n",
       "294          NaN\n",
       "301          NaN\n",
       "303          NaN\n",
       "412          NaN\n",
       "Name: Gross, dtype: float64"
      ]
     },
     "execution_count": 14,
     "metadata": {},
     "output_type": "execute_result"
    }
   ],
   "source": [
    "df.Gross[df['Director']=='Akira Kurosawa']"
   ]
  },
  {
   "cell_type": "code",
   "execution_count": 15,
   "id": "e7ea05f8",
   "metadata": {},
   "outputs": [
    {
     "data": {
      "text/plain": [
       "436    12535000.0\n",
       "560     6540000.0\n",
       "563      296000.0\n",
       "709           NaN\n",
       "711           NaN\n",
       "715           NaN\n",
       "718           NaN\n",
       "Name: Gross, dtype: float64"
      ]
     },
     "execution_count": 15,
     "metadata": {},
     "output_type": "execute_result"
    }
   ],
   "source": [
    "df.Gross[df['Director']=='Howard Hawks']"
   ]
  },
  {
   "cell_type": "code",
   "execution_count": 16,
   "id": "2d63c70d",
   "metadata": {},
   "outputs": [],
   "source": [
    "for i in df['Director'][df.Gross.isnull()].unique():\n",
    "    #df.loc[df.a==1,'b'] = df.loc[df.a==1,'b'].fillna(df[df['a'] == 1]['b'].median())\n",
    "    df.loc[df['Director']==i,'Gross'] = df.loc[df['Director']==i,'Gross'].fillna(df[df['Director']==i]['Gross'].median())\n"
   ]
  },
  {
   "cell_type": "code",
   "execution_count": 17,
   "id": "57c74523",
   "metadata": {},
   "outputs": [
    {
     "data": {
      "text/plain": [
       "436    12535000.0\n",
       "560     6540000.0\n",
       "563      296000.0\n",
       "709     6540000.0\n",
       "711     6540000.0\n",
       "715     6540000.0\n",
       "718     6540000.0\n",
       "Name: Gross, dtype: float64"
      ]
     },
     "execution_count": 17,
     "metadata": {},
     "output_type": "execute_result"
    }
   ],
   "source": [
    "df.Gross[df['Director']=='Howard Hawks']"
   ]
  },
  {
   "cell_type": "code",
   "execution_count": 18,
   "id": "6587ea3b",
   "metadata": {},
   "outputs": [
    {
     "data": {
      "text/plain": [
       "436    12535000.0\n",
       "560     6540000.0\n",
       "563      296000.0\n",
       "709     6540000.0\n",
       "711     6540000.0\n",
       "715     6540000.0\n",
       "718     6540000.0\n",
       "Name: Gross, dtype: float64"
      ]
     },
     "execution_count": 18,
     "metadata": {},
     "output_type": "execute_result"
    }
   ],
   "source": [
    "df.Gross[df['Director']=='Howard Hawks']"
   ]
  },
  {
   "cell_type": "code",
   "execution_count": 19,
   "id": "2a1e9b27",
   "metadata": {},
   "outputs": [
    {
     "data": {
      "text/plain": [
       "31      269061.0\n",
       "77      182814.5\n",
       "121      55240.0\n",
       "172    4135750.0\n",
       "181     182814.5\n",
       "189      96568.0\n",
       "294     182814.5\n",
       "301     182814.5\n",
       "303     182814.5\n",
       "412     182814.5\n",
       "Name: Gross, dtype: float64"
      ]
     },
     "execution_count": 19,
     "metadata": {},
     "output_type": "execute_result"
    }
   ],
   "source": [
    "#median=df.Gross.median()\n",
    "df.Gross[df['Director']=='Akira Kurosawa']"
   ]
  },
  {
   "cell_type": "code",
   "execution_count": 20,
   "id": "36e64903",
   "metadata": {},
   "outputs": [
    {
     "data": {
      "text/plain": [
       "996   NaN\n",
       "Name: Gross, dtype: float64"
      ]
     },
     "execution_count": 20,
     "metadata": {},
     "output_type": "execute_result"
    }
   ],
   "source": [
    "df.Gross[df['Director']=='George Stevens']"
   ]
  },
  {
   "cell_type": "code",
   "execution_count": 21,
   "id": "88c7e80c",
   "metadata": {},
   "outputs": [
    {
     "data": {
      "text/plain": [
       "0"
      ]
     },
     "execution_count": 21,
     "metadata": {},
     "output_type": "execute_result"
    }
   ],
   "source": [
    "df.Gross.fillna(df.Gross.median(),inplace=True)\n",
    "df.Gross.isnull().sum()"
   ]
  },
  {
   "cell_type": "code",
   "execution_count": 22,
   "id": "7b516532",
   "metadata": {},
   "outputs": [
    {
     "data": {
      "text/plain": [
       "996    20186659.0\n",
       "Name: Gross, dtype: float64"
      ]
     },
     "execution_count": 22,
     "metadata": {},
     "output_type": "execute_result"
    }
   ],
   "source": [
    "df.Gross[df['Director']=='George Stevens']"
   ]
  },
  {
   "cell_type": "code",
   "execution_count": null,
   "id": "7b157484",
   "metadata": {},
   "outputs": [],
   "source": [
    "\n"
   ]
  },
  {
   "cell_type": "markdown",
   "id": "e5c713e1",
   "metadata": {},
   "source": [
    "# Cleaning COLUMN META_SCORE"
   ]
  },
  {
   "cell_type": "code",
   "execution_count": 23,
   "id": "15a703d7",
   "metadata": {},
   "outputs": [
    {
     "name": "stdout",
     "output_type": "stream",
     "text": [
      "null values 157\n",
      "<class 'pandas.core.series.Series'>\n",
      "RangeIndex: 1000 entries, 0 to 999\n",
      "Series name: Meta_score\n",
      "Non-Null Count  Dtype  \n",
      "--------------  -----  \n",
      "843 non-null    float64\n",
      "dtypes: float64(1)\n",
      "memory usage: 7.9 KB\n"
     ]
    }
   ],
   "source": [
    "print('null values',df.Meta_score.isnull().sum())\n",
    "df.Meta_score.info()"
   ]
  },
  {
   "cell_type": "code",
   "execution_count": 24,
   "id": "5b51f08a",
   "metadata": {},
   "outputs": [
    {
     "data": {
      "text/plain": [
       "436    93.0\n",
       "560     NaN\n",
       "563     NaN\n",
       "709     NaN\n",
       "711     NaN\n",
       "715    91.0\n",
       "718    87.0\n",
       "Name: Meta_score, dtype: float64"
      ]
     },
     "execution_count": 24,
     "metadata": {},
     "output_type": "execute_result"
    }
   ],
   "source": [
    "df.Meta_score[df['Director']=='Howard Hawks']"
   ]
  },
  {
   "cell_type": "code",
   "execution_count": 25,
   "id": "71f4887b",
   "metadata": {},
   "outputs": [
    {
     "data": {
      "text/plain": [
       "31     98.0\n",
       "77      NaN\n",
       "121     NaN\n",
       "172    96.0\n",
       "181     NaN\n",
       "189    98.0\n",
       "294     NaN\n",
       "301     NaN\n",
       "303     NaN\n",
       "412    84.0\n",
       "Name: Meta_score, dtype: float64"
      ]
     },
     "execution_count": 25,
     "metadata": {},
     "output_type": "execute_result"
    }
   ],
   "source": [
    "df.Meta_score[df['Director']=='Akira Kurosawa']"
   ]
  },
  {
   "cell_type": "code",
   "execution_count": 26,
   "id": "5f5994fd",
   "metadata": {},
   "outputs": [],
   "source": [
    "for i in df['Director'][df.Meta_score.isnull()].unique():\n",
    "    #df.loc[df.a==1,'b'] = df.loc[df.a==1,'b'].fillna(df[df['a'] == 1]['b'].median())\n",
    "    df.loc[df['Director']==i,'Meta_score'] = df.loc[df['Director']==i,'Meta_score'].fillna(df[df['Director']==i]['Meta_score'].median())\n",
    "#df.loc[df['Director']==i,'Meta_score'] = konse specific director me value save karna hai... "
   ]
  },
  {
   "cell_type": "code",
   "execution_count": 27,
   "id": "d3032aaf",
   "metadata": {},
   "outputs": [
    {
     "data": {
      "text/plain": [
       "436    93.0\n",
       "560    91.0\n",
       "563    91.0\n",
       "709    91.0\n",
       "711    91.0\n",
       "715    91.0\n",
       "718    87.0\n",
       "Name: Meta_score, dtype: float64"
      ]
     },
     "execution_count": 27,
     "metadata": {},
     "output_type": "execute_result"
    }
   ],
   "source": [
    "df.Meta_score[df['Director']=='Howard Hawks']"
   ]
  },
  {
   "cell_type": "code",
   "execution_count": 28,
   "id": "f66a6ff6",
   "metadata": {},
   "outputs": [
    {
     "data": {
      "text/plain": [
       "31     98.0\n",
       "77     97.0\n",
       "121    97.0\n",
       "172    96.0\n",
       "181    97.0\n",
       "189    98.0\n",
       "294    97.0\n",
       "301    97.0\n",
       "303    97.0\n",
       "412    84.0\n",
       "Name: Meta_score, dtype: float64"
      ]
     },
     "execution_count": 28,
     "metadata": {},
     "output_type": "execute_result"
    }
   ],
   "source": [
    "df.Meta_score[df['Director']=='Akira Kurosawa']"
   ]
  },
  {
   "cell_type": "code",
   "execution_count": 29,
   "id": "0b032b01",
   "metadata": {},
   "outputs": [
    {
     "data": {
      "text/plain": [
       "101"
      ]
     },
     "execution_count": 29,
     "metadata": {},
     "output_type": "execute_result"
    }
   ],
   "source": [
    "df.Meta_score.isnull().sum()"
   ]
  },
  {
   "cell_type": "code",
   "execution_count": 30,
   "id": "5bcfbb04",
   "metadata": {},
   "outputs": [
    {
     "data": {
      "text/plain": [
       "count    899.000000\n",
       "mean      78.497775\n",
       "std       12.420325\n",
       "min       28.000000\n",
       "25%       71.000000\n",
       "50%       80.000000\n",
       "75%       88.000000\n",
       "max      100.000000\n",
       "Name: Meta_score, dtype: float64"
      ]
     },
     "execution_count": 30,
     "metadata": {},
     "output_type": "execute_result"
    }
   ],
   "source": [
    "df.Meta_score.describe()"
   ]
  },
  {
   "cell_type": "code",
   "execution_count": 31,
   "id": "fd514b79",
   "metadata": {},
   "outputs": [
    {
     "data": {
      "text/plain": [
       "0"
      ]
     },
     "execution_count": 31,
     "metadata": {},
     "output_type": "execute_result"
    }
   ],
   "source": [
    "df.Meta_score.fillna(78.497775,inplace=True)\n",
    "df.Meta_score.isnull().sum()"
   ]
  },
  {
   "cell_type": "markdown",
   "id": "4b8a65ef",
   "metadata": {},
   "source": [
    "# Cleaning Column Certificate"
   ]
  },
  {
   "cell_type": "code",
   "execution_count": 32,
   "id": "88f8d88a",
   "metadata": {},
   "outputs": [
    {
     "data": {
      "text/plain": [
       "array(['A', 'UA', 'U', 'PG-13', 'R', nan, 'PG', 'G', 'Passed', 'TV-14',\n",
       "       '16', 'TV-MA', 'Unrated', 'GP', 'Approved', 'TV-PG', 'U/A'],\n",
       "      dtype=object)"
      ]
     },
     "execution_count": 32,
     "metadata": {},
     "output_type": "execute_result"
    }
   ],
   "source": [
    "df.Certificate.unique()"
   ]
  },
  {
   "cell_type": "code",
   "execution_count": 33,
   "id": "4b542e11",
   "metadata": {},
   "outputs": [],
   "source": [
    "df.Certificate=df.Certificate.replace(['G','PG','TV-Y','TV-Y7','TV-G','TV-PG'],'U')\n",
    "df.Certificate=df.Certificate.replace(['PG-13','TV-14','U/A'],'UA')\n",
    "df.Certificate=df.Certificate.replace(['R', 'NC-17','TV-MA'],'U')\n",
    "df.Certificate=df.Certificate.replace(['nan','Passed','16','Unrated','GP','Approved'],np.NaN)\n"
   ]
  },
  {
   "cell_type": "code",
   "execution_count": 34,
   "id": "17b0f510",
   "metadata": {},
   "outputs": [
    {
     "name": "stdout",
     "output_type": "stream",
     "text": [
      "['A' 'UA' 'U' nan]\n"
     ]
    },
    {
     "data": {
      "text/plain": [
       "150"
      ]
     },
     "execution_count": 34,
     "metadata": {},
     "output_type": "execute_result"
    }
   ],
   "source": [
    "print(df.Certificate.unique())\n",
    "df.Certificate.isnull().sum()"
   ]
  },
  {
   "cell_type": "code",
   "execution_count": 35,
   "id": "8e9c89d8",
   "metadata": {},
   "outputs": [
    {
     "data": {
      "text/plain": [
       "0        A\n",
       "9        A\n",
       "17       A\n",
       "20       U\n",
       "40       U\n",
       "53       A\n",
       "88       U\n",
       "89      UA\n",
       "91      UA\n",
       "97       A\n",
       "98      UA\n",
       "121    NaN\n",
       "122    NaN\n",
       "141     UA\n",
       "149      A\n",
       "154      U\n",
       "156      U\n",
       "188      U\n",
       "190    NaN\n",
       "200      U\n",
       "Name: Certificate, dtype: object"
      ]
     },
     "execution_count": 35,
     "metadata": {},
     "output_type": "execute_result"
    }
   ],
   "source": [
    "df.Certificate[df['Genre']=='Drama'].head(20)"
   ]
  },
  {
   "cell_type": "code",
   "execution_count": 36,
   "id": "ff5dbcde",
   "metadata": {},
   "outputs": [
    {
     "data": {
      "text/plain": [
       "0"
      ]
     },
     "execution_count": 36,
     "metadata": {},
     "output_type": "execute_result"
    }
   ],
   "source": [
    "df.Certificate.fillna('U',inplace=True)\n",
    "df.Certificate.isnull().sum()"
   ]
  },
  {
   "cell_type": "markdown",
   "id": "69f195e6",
   "metadata": {},
   "source": [
    "# Cleaning Column Released Year ##"
   ]
  },
  {
   "cell_type": "code",
   "execution_count": 37,
   "id": "3b435596",
   "metadata": {},
   "outputs": [
    {
     "name": "stdout",
     "output_type": "stream",
     "text": [
      "['PG']\n"
     ]
    }
   ],
   "source": [
    "import re\n",
    "d=[]\n",
    "for i in df.Released_Year:\n",
    "    if re.findall(\"[a-zA-Z.]\",i):\n",
    "        d.append(i)\n",
    "print(d)\n"
   ]
  },
  {
   "cell_type": "code",
   "execution_count": 38,
   "id": "15e46039",
   "metadata": {},
   "outputs": [],
   "source": [
    "df.Released_Year.replace(['PG'],1970,inplace=True)"
   ]
  },
  {
   "cell_type": "code",
   "execution_count": 39,
   "id": "8b35aee5",
   "metadata": {},
   "outputs": [
    {
     "name": "stdout",
     "output_type": "stream",
     "text": [
      "<class 'pandas.core.series.Series'>\n",
      "RangeIndex: 1000 entries, 0 to 999\n",
      "Series name: Released_Year\n",
      "Non-Null Count  Dtype\n",
      "--------------  -----\n",
      "1000 non-null   int32\n",
      "dtypes: int32(1)\n",
      "memory usage: 4.0 KB\n"
     ]
    }
   ],
   "source": [
    "df.Released_Year=df.Released_Year.astype(int)\n",
    "\n",
    "df.Released_Year.info()"
   ]
  },
  {
   "cell_type": "code",
   "execution_count": null,
   "id": "2034e765",
   "metadata": {},
   "outputs": [],
   "source": []
  },
  {
   "cell_type": "markdown",
   "id": "903a4d1b",
   "metadata": {},
   "source": [
    "# Dealing with Column Gross "
   ]
  },
  {
   "cell_type": "code",
   "execution_count": null,
   "id": "6a680fe6",
   "metadata": {},
   "outputs": [],
   "source": [
    "\n"
   ]
  },
  {
   "cell_type": "code",
   "execution_count": 40,
   "id": "f3cf073d",
   "metadata": {},
   "outputs": [
    {
     "data": {
      "text/plain": [
       "array([2020, 2019, 2018, 2017, 2016, 2015, 2014, 2013, 2012, 2011, 2010,\n",
       "       2009, 2008, 2007, 2006, 2005, 2004, 2003, 2002, 2001, 2000, 1999,\n",
       "       1998, 1997, 1996, 1995, 1994, 1993, 1992, 1991, 1990, 1989, 1988,\n",
       "       1987, 1986, 1985, 1984, 1983, 1982, 1981, 1980, 1979, 1978, 1977,\n",
       "       1976, 1975, 1974, 1973, 1972, 1971, 1970, 1969, 1968, 1967, 1966,\n",
       "       1965, 1964, 1963, 1962, 1961, 1960, 1959, 1958, 1957, 1956, 1955,\n",
       "       1954, 1953, 1952, 1951, 1950, 1949, 1948, 1947, 1946, 1945, 1944,\n",
       "       1943, 1942, 1941, 1940, 1939, 1938, 1937, 1936, 1935, 1934, 1933,\n",
       "       1932, 1931, 1930, 1928, 1927, 1926, 1925, 1924, 1922, 1921, 1920])"
      ]
     },
     "execution_count": 40,
     "metadata": {},
     "output_type": "execute_result"
    }
   ],
   "source": [
    "df.Released_Year.sort_values(ascending=False).unique()"
   ]
  },
  {
   "cell_type": "markdown",
   "id": "42711ad8",
   "metadata": {},
   "source": [
    "1gm of gold in each decade ( This will help to deal with Inflation, method called Indexation)\n",
    "\n",
    "2011-20\t1,402.48\n",
    "\t\n",
    "2001-2010\t617.31\n",
    "\t\n",
    "1990-2000\t453.09\n",
    "\t\n",
    "1980-1991\t410.9133333\n",
    "\t\t\n",
    "1970-1981\t199.9008333\n",
    "\n"
   ]
  },
  {
   "cell_type": "code",
   "execution_count": 41,
   "id": "29208ac8",
   "metadata": {},
   "outputs": [
    {
     "name": "stderr",
     "output_type": "stream",
     "text": [
      "C:\\Users\\Singh\\AppData\\Local\\Temp\\ipykernel_7540\\1925913812.py:1: FutureWarning: Boolean inputs to the `inclusive` argument are deprecated in favour of `both` or `neither`.\n",
      "  df.Gross[df['Released_Year'].between(1971,1980, inclusive = True)]=df.Gross[df['Released_Year'].between(1971,1980, inclusive = True)].apply(lambda x:x/199.90)\n",
      "C:\\Users\\Singh\\AppData\\Local\\Temp\\ipykernel_7540\\1925913812.py:1: SettingWithCopyWarning: \n",
      "A value is trying to be set on a copy of a slice from a DataFrame\n",
      "\n",
      "See the caveats in the documentation: https://pandas.pydata.org/pandas-docs/stable/user_guide/indexing.html#returning-a-view-versus-a-copy\n",
      "  df.Gross[df['Released_Year'].between(1971,1980, inclusive = True)]=df.Gross[df['Released_Year'].between(1971,1980, inclusive = True)].apply(lambda x:x/199.90)\n",
      "C:\\Users\\Singh\\AppData\\Local\\Temp\\ipykernel_7540\\1925913812.py:2: FutureWarning: Boolean inputs to the `inclusive` argument are deprecated in favour of `both` or `neither`.\n",
      "  df.Gross[df['Released_Year'].between(1981,1990, inclusive = True)]=df.Gross[df['Released_Year'].between(1981,1990, inclusive = True)].apply(lambda x:x/410.91)\n",
      "C:\\Users\\Singh\\AppData\\Local\\Temp\\ipykernel_7540\\1925913812.py:2: SettingWithCopyWarning: \n",
      "A value is trying to be set on a copy of a slice from a DataFrame\n",
      "\n",
      "See the caveats in the documentation: https://pandas.pydata.org/pandas-docs/stable/user_guide/indexing.html#returning-a-view-versus-a-copy\n",
      "  df.Gross[df['Released_Year'].between(1981,1990, inclusive = True)]=df.Gross[df['Released_Year'].between(1981,1990, inclusive = True)].apply(lambda x:x/410.91)\n",
      "C:\\Users\\Singh\\AppData\\Local\\Temp\\ipykernel_7540\\1925913812.py:3: FutureWarning: Boolean inputs to the `inclusive` argument are deprecated in favour of `both` or `neither`.\n",
      "  df.Gross[df['Released_Year'].between(1991,2000, inclusive = True)]=df.Gross[df['Released_Year'].between(1991,2000, inclusive = True)].apply(lambda x:x/453.09)\n",
      "C:\\Users\\Singh\\AppData\\Local\\Temp\\ipykernel_7540\\1925913812.py:3: SettingWithCopyWarning: \n",
      "A value is trying to be set on a copy of a slice from a DataFrame\n",
      "\n",
      "See the caveats in the documentation: https://pandas.pydata.org/pandas-docs/stable/user_guide/indexing.html#returning-a-view-versus-a-copy\n",
      "  df.Gross[df['Released_Year'].between(1991,2000, inclusive = True)]=df.Gross[df['Released_Year'].between(1991,2000, inclusive = True)].apply(lambda x:x/453.09)\n",
      "C:\\Users\\Singh\\AppData\\Local\\Temp\\ipykernel_7540\\1925913812.py:4: FutureWarning: Boolean inputs to the `inclusive` argument are deprecated in favour of `both` or `neither`.\n",
      "  df.Gross[df['Released_Year'].between(2001,2010, inclusive = True)]=df.Gross[df['Released_Year'].between(2001,2010, inclusive = True)].apply(lambda x:x/617.31)\n",
      "C:\\Users\\Singh\\AppData\\Local\\Temp\\ipykernel_7540\\1925913812.py:4: SettingWithCopyWarning: \n",
      "A value is trying to be set on a copy of a slice from a DataFrame\n",
      "\n",
      "See the caveats in the documentation: https://pandas.pydata.org/pandas-docs/stable/user_guide/indexing.html#returning-a-view-versus-a-copy\n",
      "  df.Gross[df['Released_Year'].between(2001,2010, inclusive = True)]=df.Gross[df['Released_Year'].between(2001,2010, inclusive = True)].apply(lambda x:x/617.31)\n",
      "C:\\Users\\Singh\\AppData\\Local\\Temp\\ipykernel_7540\\1925913812.py:5: FutureWarning: Boolean inputs to the `inclusive` argument are deprecated in favour of `both` or `neither`.\n",
      "  df.Gross[df['Released_Year'].between(2011,2020, inclusive = True)]=df.Gross[df['Released_Year'].between(2011,2020, inclusive = True)].apply(lambda x:x/1402.50)\n",
      "C:\\Users\\Singh\\AppData\\Local\\Temp\\ipykernel_7540\\1925913812.py:5: SettingWithCopyWarning: \n",
      "A value is trying to be set on a copy of a slice from a DataFrame\n",
      "\n",
      "See the caveats in the documentation: https://pandas.pydata.org/pandas-docs/stable/user_guide/indexing.html#returning-a-view-versus-a-copy\n",
      "  df.Gross[df['Released_Year'].between(2011,2020, inclusive = True)]=df.Gross[df['Released_Year'].between(2011,2020, inclusive = True)].apply(lambda x:x/1402.50)\n",
      "C:\\Users\\Singh\\AppData\\Local\\Temp\\ipykernel_7540\\1925913812.py:6: FutureWarning: Boolean inputs to the `inclusive` argument are deprecated in favour of `both` or `neither`.\n",
      "  df.Gross[df['Released_Year'].between(1970,2020, inclusive = True)].value_counts().sum()\n"
     ]
    },
    {
     "data": {
      "text/plain": [
       "801"
      ]
     },
     "execution_count": 41,
     "metadata": {},
     "output_type": "execute_result"
    }
   ],
   "source": [
    "\n",
    "df.Gross[df['Released_Year'].between(1971,1980, inclusive = True)]=df.Gross[df['Released_Year'].between(1971,1980, inclusive = True)].apply(lambda x:x/199.90)\n",
    "df.Gross[df['Released_Year'].between(1981,1990, inclusive = True)]=df.Gross[df['Released_Year'].between(1981,1990, inclusive = True)].apply(lambda x:x/410.91)\n",
    "df.Gross[df['Released_Year'].between(1991,2000, inclusive = True)]=df.Gross[df['Released_Year'].between(1991,2000, inclusive = True)].apply(lambda x:x/453.09)\n",
    "df.Gross[df['Released_Year'].between(2001,2010, inclusive = True)]=df.Gross[df['Released_Year'].between(2001,2010, inclusive = True)].apply(lambda x:x/617.31)\n",
    "df.Gross[df['Released_Year'].between(2011,2020, inclusive = True)]=df.Gross[df['Released_Year'].between(2011,2020, inclusive = True)].apply(lambda x:x/1402.50)\n",
    "df.Gross[df['Released_Year'].between(1970,2020, inclusive = True)].value_counts().sum()"
   ]
  },
  {
   "cell_type": "code",
   "execution_count": 42,
   "id": "577cf2ff",
   "metadata": {},
   "outputs": [
    {
     "data": {
      "text/plain": [
       "0"
      ]
     },
     "execution_count": 42,
     "metadata": {},
     "output_type": "execute_result"
    }
   ],
   "source": [
    "df.Gross.isnull().sum()"
   ]
  },
  {
   "cell_type": "code",
   "execution_count": null,
   "id": "da1c4838",
   "metadata": {},
   "outputs": [],
   "source": [
    "\n"
   ]
  },
  {
   "cell_type": "code",
   "execution_count": 43,
   "id": "9cadb40a",
   "metadata": {},
   "outputs": [
    {
     "data": {
      "text/plain": [
       "31     269061.000000\n",
       "77     182814.500000\n",
       "121     55240.000000\n",
       "172     10064.856051\n",
       "181    182814.500000\n",
       "189     96568.000000\n",
       "294    182814.500000\n",
       "301    182814.500000\n",
       "303    182814.500000\n",
       "412       914.529765\n",
       "Name: Gross, dtype: float64"
      ]
     },
     "execution_count": 43,
     "metadata": {},
     "output_type": "execute_result"
    }
   ],
   "source": [
    "df.Gross[df.Director==\"Akira Kurosawa\"]"
   ]
  },
  {
   "cell_type": "code",
   "execution_count": 44,
   "id": "3ab6dd08",
   "metadata": {},
   "outputs": [
    {
     "data": {
      "text/html": [
       "<div>\n",
       "<style scoped>\n",
       "    .dataframe tbody tr th:only-of-type {\n",
       "        vertical-align: middle;\n",
       "    }\n",
       "\n",
       "    .dataframe tbody tr th {\n",
       "        vertical-align: top;\n",
       "    }\n",
       "\n",
       "    .dataframe thead th {\n",
       "        text-align: right;\n",
       "    }\n",
       "</style>\n",
       "<table border=\"1\" class=\"dataframe\">\n",
       "  <thead>\n",
       "    <tr style=\"text-align: right;\">\n",
       "      <th></th>\n",
       "      <th>Year</th>\n",
       "      <th>Movies_per_decade</th>\n",
       "    </tr>\n",
       "  </thead>\n",
       "  <tbody>\n",
       "    <tr>\n",
       "      <th>0</th>\n",
       "      <td>1970-80</td>\n",
       "      <td>81</td>\n",
       "    </tr>\n",
       "    <tr>\n",
       "      <th>1</th>\n",
       "      <td>1980-90</td>\n",
       "      <td>89</td>\n",
       "    </tr>\n",
       "    <tr>\n",
       "      <th>2</th>\n",
       "      <td>1990-2000</td>\n",
       "      <td>161</td>\n",
       "    </tr>\n",
       "    <tr>\n",
       "      <th>3</th>\n",
       "      <td>2000-10</td>\n",
       "      <td>241</td>\n",
       "    </tr>\n",
       "    <tr>\n",
       "      <th>4</th>\n",
       "      <td>2010-20</td>\n",
       "      <td>225</td>\n",
       "    </tr>\n",
       "  </tbody>\n",
       "</table>\n",
       "</div>"
      ],
      "text/plain": [
       "        Year  Movies_per_decade\n",
       "0    1970-80                 81\n",
       "1    1980-90                 89\n",
       "2  1990-2000                161\n",
       "3    2000-10                241\n",
       "4    2010-20                225"
      ]
     },
     "execution_count": 44,
     "metadata": {},
     "output_type": "execute_result"
    }
   ],
   "source": [
    "a=df.Gross[df['Released_Year'].between(1971,1980)].value_counts().sum()\n",
    "a2=df.Gross[df['Released_Year'].between(1981,1990)].value_counts().sum()\n",
    "a3=df.Gross[df['Released_Year'].between(1991,2000)].value_counts().sum()\n",
    "a4=df.Gross[df['Released_Year'].between(2001,2010)].value_counts().sum()\n",
    "a5=df.Gross[df['Released_Year'].between(2011,2020)].value_counts().sum()\n",
    "b=[a,a2,a3,a4,a5]\n",
    "c=['1970-80','1980-90','1990-2000','2000-10','2010-20']\n",
    "z = pd.DataFrame(zip(c, b), columns=['Year','Movies_per_decade'])\n",
    "z"
   ]
  },
  {
   "cell_type": "code",
   "execution_count": 45,
   "id": "a5a75f85",
   "metadata": {},
   "outputs": [
    {
     "data": {
      "image/png": "[encoded data removed]",
      "text/plain": [
       "<Figure size 720x360 with 1 Axes>"
      ]
     },
     "metadata": {
      "needs_background": "light"
     },
     "output_type": "display_data"
    }
   ],
   "source": [
    "plt.figure( figsize = (10,5))\n",
    "\n",
    "ax=sns.barplot(x = 'Year', y = 'Movies_per_decade', data = z)\n",
    "for i in ax.containers:\n",
    "    ax.bar_label(i,)\n",
    "plt.show()"
   ]
  },
  {
   "cell_type": "code",
   "execution_count": 46,
   "id": "bdc43581",
   "metadata": {},
   "outputs": [
    {
     "name": "stdout",
     "output_type": "stream",
     "text": [
      "801\n"
     ]
    },
    {
     "data": {
      "text/html": [
       "<div>\n",
       "<style scoped>\n",
       "    .dataframe tbody tr th:only-of-type {\n",
       "        vertical-align: middle;\n",
       "    }\n",
       "\n",
       "    .dataframe tbody tr th {\n",
       "        vertical-align: top;\n",
       "    }\n",
       "\n",
       "    .dataframe thead th {\n",
       "        text-align: right;\n",
       "    }\n",
       "</style>\n",
       "<table border=\"1\" class=\"dataframe\">\n",
       "  <thead>\n",
       "    <tr style=\"text-align: right;\">\n",
       "      <th></th>\n",
       "      <th>Movie</th>\n",
       "      <th>Released_Year</th>\n",
       "      <th>Certificate</th>\n",
       "      <th>Runtime</th>\n",
       "      <th>Genre</th>\n",
       "      <th>IMDB_Rating</th>\n",
       "      <th>Meta_score</th>\n",
       "      <th>Director</th>\n",
       "      <th>Star1</th>\n",
       "      <th>Star2</th>\n",
       "      <th>Star3</th>\n",
       "      <th>Star4</th>\n",
       "      <th>No_of_Votes</th>\n",
       "      <th>Gross</th>\n",
       "    </tr>\n",
       "  </thead>\n",
       "  <tbody>\n",
       "    <tr>\n",
       "      <th>0</th>\n",
       "      <td>The Shawshank Redemption</td>\n",
       "      <td>1994</td>\n",
       "      <td>A</td>\n",
       "      <td>142 min</td>\n",
       "      <td>Drama</td>\n",
       "      <td>9.3</td>\n",
       "      <td>80</td>\n",
       "      <td>Frank Darabont</td>\n",
       "      <td>Tim Robbins</td>\n",
       "      <td>Morgan Freeman</td>\n",
       "      <td>Bob Gunton</td>\n",
       "      <td>William Sadler</td>\n",
       "      <td>2343110</td>\n",
       "      <td>62551.521773</td>\n",
       "    </tr>\n",
       "    <tr>\n",
       "      <th>1</th>\n",
       "      <td>The Godfather</td>\n",
       "      <td>1972</td>\n",
       "      <td>A</td>\n",
       "      <td>175 min</td>\n",
       "      <td>Crime, Drama</td>\n",
       "      <td>9.2</td>\n",
       "      <td>100</td>\n",
       "      <td>Francis Ford Coppola</td>\n",
       "      <td>Marlon Brando</td>\n",
       "      <td>Al Pacino</td>\n",
       "      <td>James Caan</td>\n",
       "      <td>Diane Keaton</td>\n",
       "      <td>1620367</td>\n",
       "      <td>675169.639820</td>\n",
       "    </tr>\n",
       "    <tr>\n",
       "      <th>2</th>\n",
       "      <td>The Dark Knight</td>\n",
       "      <td>2008</td>\n",
       "      <td>UA</td>\n",
       "      <td>152 min</td>\n",
       "      <td>Action, Crime, Drama</td>\n",
       "      <td>9.0</td>\n",
       "      <td>84</td>\n",
       "      <td>Christopher Nolan</td>\n",
       "      <td>Christian Bale</td>\n",
       "      <td>Heath Ledger</td>\n",
       "      <td>Aaron Eckhart</td>\n",
       "      <td>Michael Caine</td>\n",
       "      <td>2303232</td>\n",
       "      <td>866434.115760</td>\n",
       "    </tr>\n",
       "    <tr>\n",
       "      <th>3</th>\n",
       "      <td>The Godfather: Part II</td>\n",
       "      <td>1974</td>\n",
       "      <td>A</td>\n",
       "      <td>202 min</td>\n",
       "      <td>Crime, Drama</td>\n",
       "      <td>9.0</td>\n",
       "      <td>90</td>\n",
       "      <td>Francis Ford Coppola</td>\n",
       "      <td>Al Pacino</td>\n",
       "      <td>Robert De Niro</td>\n",
       "      <td>Robert Duvall</td>\n",
       "      <td>Diane Keaton</td>\n",
       "      <td>1129952</td>\n",
       "      <td>286643.321661</td>\n",
       "    </tr>\n",
       "    <tr>\n",
       "      <th>5</th>\n",
       "      <td>The Lord of the Rings: The Return of the King</td>\n",
       "      <td>2003</td>\n",
       "      <td>U</td>\n",
       "      <td>201 min</td>\n",
       "      <td>Action, Adventure, Drama</td>\n",
       "      <td>8.9</td>\n",
       "      <td>94</td>\n",
       "      <td>Peter Jackson</td>\n",
       "      <td>Elijah Wood</td>\n",
       "      <td>Viggo Mortensen</td>\n",
       "      <td>Ian McKellen</td>\n",
       "      <td>Orlando Bloom</td>\n",
       "      <td>1642758</td>\n",
       "      <td>612084.536133</td>\n",
       "    </tr>\n",
       "    <tr>\n",
       "      <th>6</th>\n",
       "      <td>Pulp Fiction</td>\n",
       "      <td>1994</td>\n",
       "      <td>A</td>\n",
       "      <td>154 min</td>\n",
       "      <td>Crime, Drama</td>\n",
       "      <td>8.9</td>\n",
       "      <td>94</td>\n",
       "      <td>Quentin Tarantino</td>\n",
       "      <td>John Travolta</td>\n",
       "      <td>Uma Thurman</td>\n",
       "      <td>Samuel L. Jackson</td>\n",
       "      <td>Bruce Willis</td>\n",
       "      <td>1826188</td>\n",
       "      <td>238206.012051</td>\n",
       "    </tr>\n",
       "    <tr>\n",
       "      <th>7</th>\n",
       "      <td>Schindler's List</td>\n",
       "      <td>1993</td>\n",
       "      <td>A</td>\n",
       "      <td>195 min</td>\n",
       "      <td>Biography, Drama, History</td>\n",
       "      <td>8.9</td>\n",
       "      <td>94</td>\n",
       "      <td>Steven Spielberg</td>\n",
       "      <td>Liam Neeson</td>\n",
       "      <td>Ralph Fiennes</td>\n",
       "      <td>Ben Kingsley</td>\n",
       "      <td>Caroline Goodall</td>\n",
       "      <td>1213505</td>\n",
       "      <td>213862.186321</td>\n",
       "    </tr>\n",
       "    <tr>\n",
       "      <th>8</th>\n",
       "      <td>Inception</td>\n",
       "      <td>2010</td>\n",
       "      <td>UA</td>\n",
       "      <td>148 min</td>\n",
       "      <td>Action, Adventure, Sci-Fi</td>\n",
       "      <td>8.8</td>\n",
       "      <td>74</td>\n",
       "      <td>Christopher Nolan</td>\n",
       "      <td>Leonardo DiCaprio</td>\n",
       "      <td>Joseph Gordon-Levitt</td>\n",
       "      <td>Elliot Page</td>\n",
       "      <td>Ken Watanabe</td>\n",
       "      <td>2067042</td>\n",
       "      <td>473953.435065</td>\n",
       "    </tr>\n",
       "    <tr>\n",
       "      <th>9</th>\n",
       "      <td>Fight Club</td>\n",
       "      <td>1999</td>\n",
       "      <td>A</td>\n",
       "      <td>139 min</td>\n",
       "      <td>Drama</td>\n",
       "      <td>8.8</td>\n",
       "      <td>66</td>\n",
       "      <td>David Fincher</td>\n",
       "      <td>Brad Pitt</td>\n",
       "      <td>Edward Norton</td>\n",
       "      <td>Meat Loaf</td>\n",
       "      <td>Zach Grenier</td>\n",
       "      <td>1854740</td>\n",
       "      <td>81727.917191</td>\n",
       "    </tr>\n",
       "    <tr>\n",
       "      <th>10</th>\n",
       "      <td>The Lord of the Rings: The Fellowship of the Ring</td>\n",
       "      <td>2001</td>\n",
       "      <td>U</td>\n",
       "      <td>178 min</td>\n",
       "      <td>Action, Adventure, Drama</td>\n",
       "      <td>8.8</td>\n",
       "      <td>92</td>\n",
       "      <td>Peter Jackson</td>\n",
       "      <td>Elijah Wood</td>\n",
       "      <td>Ian McKellen</td>\n",
       "      <td>Orlando Bloom</td>\n",
       "      <td>Sean Bean</td>\n",
       "      <td>1661481</td>\n",
       "      <td>511160.924009</td>\n",
       "    </tr>\n",
       "  </tbody>\n",
       "</table>\n",
       "</div>"
      ],
      "text/plain": [
       "                                                Movie  Released_Year  \\\n",
       "0                            The Shawshank Redemption           1994   \n",
       "1                                       The Godfather           1972   \n",
       "2                                     The Dark Knight           2008   \n",
       "3                              The Godfather: Part II           1974   \n",
       "5       The Lord of the Rings: The Return of the King           2003   \n",
       "6                                        Pulp Fiction           1994   \n",
       "7                                    Schindler's List           1993   \n",
       "8                                           Inception           2010   \n",
       "9                                          Fight Club           1999   \n",
       "10  The Lord of the Rings: The Fellowship of the Ring           2001   \n",
       "\n",
       "   Certificate  Runtime                      Genre  IMDB_Rating  Meta_score  \\\n",
       "0            A  142 min                      Drama          9.3          80   \n",
       "1            A  175 min               Crime, Drama          9.2         100   \n",
       "2           UA  152 min       Action, Crime, Drama          9.0          84   \n",
       "3            A  202 min               Crime, Drama          9.0          90   \n",
       "5            U  201 min   Action, Adventure, Drama          8.9          94   \n",
       "6            A  154 min               Crime, Drama          8.9          94   \n",
       "7            A  195 min  Biography, Drama, History          8.9          94   \n",
       "8           UA  148 min  Action, Adventure, Sci-Fi          8.8          74   \n",
       "9            A  139 min                      Drama          8.8          66   \n",
       "10           U  178 min   Action, Adventure, Drama          8.8          92   \n",
       "\n",
       "                Director              Star1                 Star2  \\\n",
       "0         Frank Darabont        Tim Robbins        Morgan Freeman   \n",
       "1   Francis Ford Coppola      Marlon Brando             Al Pacino   \n",
       "2      Christopher Nolan     Christian Bale          Heath Ledger   \n",
       "3   Francis Ford Coppola          Al Pacino        Robert De Niro   \n",
       "5          Peter Jackson        Elijah Wood       Viggo Mortensen   \n",
       "6      Quentin Tarantino      John Travolta           Uma Thurman   \n",
       "7       Steven Spielberg        Liam Neeson         Ralph Fiennes   \n",
       "8      Christopher Nolan  Leonardo DiCaprio  Joseph Gordon-Levitt   \n",
       "9          David Fincher          Brad Pitt         Edward Norton   \n",
       "10         Peter Jackson        Elijah Wood          Ian McKellen   \n",
       "\n",
       "                Star3             Star4  No_of_Votes          Gross  \n",
       "0          Bob Gunton    William Sadler      2343110   62551.521773  \n",
       "1          James Caan      Diane Keaton      1620367  675169.639820  \n",
       "2       Aaron Eckhart     Michael Caine      2303232  866434.115760  \n",
       "3       Robert Duvall      Diane Keaton      1129952  286643.321661  \n",
       "5        Ian McKellen     Orlando Bloom      1642758  612084.536133  \n",
       "6   Samuel L. Jackson      Bruce Willis      1826188  238206.012051  \n",
       "7        Ben Kingsley  Caroline Goodall      1213505  213862.186321  \n",
       "8         Elliot Page      Ken Watanabe      2067042  473953.435065  \n",
       "9           Meat Loaf      Zach Grenier      1854740   81727.917191  \n",
       "10      Orlando Bloom         Sean Bean      1661481  511160.924009  "
      ]
     },
     "execution_count": 46,
     "metadata": {},
     "output_type": "execute_result"
    }
   ],
   "source": [
    "df.Meta_score=df.Meta_score.astype(int)\n",
    "mask = (df['Released_Year'] >= 1970) & (df['Released_Year'] <= 2020)\n",
    "print(df.loc[mask].shape[0])\n",
    "df.loc[mask].head(10)"
   ]
  },
  {
   "cell_type": "code",
   "execution_count": 47,
   "id": "bf056d12",
   "metadata": {},
   "outputs": [
    {
     "data": {
      "image/png": "[encoded data removed]",
      "text/plain": [
       "<Figure size 2160x720 with 1 Axes>"
      ]
     },
     "metadata": {
      "needs_background": "light"
     },
     "output_type": "display_data"
    }
   ],
   "source": [
    "plt.figure(figsize=(30,10))\n",
    "sns.countplot(x ='Released_Year', data =df.loc[mask],hue='Certificate')\n",
    "plt.xticks(rotation = 90)\n",
    "plt.xlabel('Years', fontsize= 15, fontweight = 'bold')\n",
    "plt.ylabel('Movies', fontsize= 15, fontweight = 'bold')\n",
    "plt.title('Movies by Year', fontsize = 17, fontweight = 'bold')\n",
    "plt.show()"
   ]
  },
  {
   "cell_type": "code",
   "execution_count": 48,
   "id": "91ed1ae8",
   "metadata": {},
   "outputs": [
    {
     "data": {
      "text/plain": [
       "<AxesSubplot:xlabel='Meta_score', ylabel='IMDB_Rating'>"
      ]
     },
     "execution_count": 48,
     "metadata": {},
     "output_type": "execute_result"
    },
    {
     "data": {
      "image/png": "[encoded data removed]",
      "text/plain": [
       "<Figure size 1080x720 with 1 Axes>"
      ]
     },
     "metadata": {
      "needs_background": "light"
     },
     "output_type": "display_data"
    }
   ],
   "source": [
    "plt.figure( figsize = (15, 10))\n",
    "sns.scatterplot(data=df, x=\"Meta_score\", y=\"IMDB_Rating\")"
   ]
  },
  {
   "cell_type": "code",
   "execution_count": null,
   "id": "3bd2af6b",
   "metadata": {},
   "outputs": [],
   "source": []
  },
  {
   "cell_type": "code",
   "execution_count": null,
   "id": "e554e953",
   "metadata": {},
   "outputs": [],
   "source": []
  },
  {
   "cell_type": "code",
   "execution_count": 49,
   "id": "36eecda3",
   "metadata": {},
   "outputs": [
    {
     "data": {
      "image/png": "[encoded data removed]",
      "text/plain": [
       "<Figure size 1440x720 with 1 Axes>"
      ]
     },
     "metadata": {
      "needs_background": "light"
     },
     "output_type": "display_data"
    }
   ],
   "source": [
    "plt.figure( figsize = (20,10))\n",
    "ax=sns.barplot(x ='IMDB_Rating', y = 'Gross', data =df.loc[mask],hue=\"Certificate\",ci=None)\n",
    "plt.show()"
   ]
  },
  {
   "cell_type": "code",
   "execution_count": 50,
   "id": "25e3c212",
   "metadata": {},
   "outputs": [
    {
     "data": {
      "image/png": "[encoded data removed]",
      "text/plain": [
       "<Figure size 1440x720 with 1 Axes>"
      ]
     },
     "metadata": {
      "needs_background": "light"
     },
     "output_type": "display_data"
    }
   ],
   "source": [
    "plt.figure( figsize = (20,10))\n",
    "sns.countplot(x ='IMDB_Rating', data =df.loc[mask],hue='Certificate')\n",
    "plt.show()"
   ]
  },
  {
   "cell_type": "code",
   "execution_count": 51,
   "id": "1e4ee59b",
   "metadata": {},
   "outputs": [
    {
     "data": {
      "image/png": "[encoded data removed]",
      "text/plain": [
       "<Figure size 1440x720 with 1 Axes>"
      ]
     },
     "metadata": {
      "needs_background": "light"
     },
     "output_type": "display_data"
    }
   ],
   "source": [
    "plt.figure( figsize = (20,10))\n",
    "z=df.loc[mask][df.loc[mask].Meta_score>1]\n",
    "sns.countplot(x ='Meta_score', data =z,hue='Certificate')\n",
    "plt.show()"
   ]
  },
  {
   "cell_type": "code",
   "execution_count": 52,
   "id": "370540ea",
   "metadata": {},
   "outputs": [
    {
     "data": {
      "text/plain": [
       "<AxesSubplot:xlabel='Meta_score', ylabel='Gross'>"
      ]
     },
     "execution_count": 52,
     "metadata": {},
     "output_type": "execute_result"
    },
    {
     "data": {
      "image/png": "[encoded data removed]",
      "text/plain": [
       "<Figure size 864x360 with 1 Axes>"
      ]
     },
     "metadata": {
      "needs_background": "light"
     },
     "output_type": "display_data"
    }
   ],
   "source": [
    "plt.figure( figsize = ( 12, 5))\n",
    "sns.lineplot( x = 'Meta_score',\n",
    "             y = 'Gross',\n",
    "             data = df.loc[mask],\n",
    "             )"
   ]
  },
  {
   "cell_type": "code",
   "execution_count": 53,
   "id": "e6ce2c55",
   "metadata": {},
   "outputs": [],
   "source": [
    "#top 10 movies with highest rating "
   ]
  },
  {
   "cell_type": "code",
   "execution_count": 54,
   "id": "238d59ba",
   "metadata": {},
   "outputs": [],
   "source": [
    "#top 10 movies with highest revenue"
   ]
  },
  {
   "cell_type": "code",
   "execution_count": 55,
   "id": "de6fe705",
   "metadata": {},
   "outputs": [],
   "source": [
    "#movies released per decade"
   ]
  },
  {
   "cell_type": "code",
   "execution_count": 56,
   "id": "d9ba28e3",
   "metadata": {},
   "outputs": [],
   "source": [
    "#trend in Genre in last 10 decades"
   ]
  },
  {
   "cell_type": "code",
   "execution_count": 57,
   "id": "cdb24d34",
   "metadata": {},
   "outputs": [
    {
     "data": {
      "text/plain": [
       "<AxesSubplot:title={'center':'Top 7 Gross Movies'}, xlabel='Movie', ylabel='Gross'>"
      ]
     },
     "execution_count": 57,
     "metadata": {},
     "output_type": "execute_result"
    },
    {
     "data": {
      "image/png": "[encoded data removed]",
      "text/plain": [
       "<Figure size 1656x360 with 1 Axes>"
      ]
     },
     "metadata": {
      "needs_background": "light"
     },
     "output_type": "display_data"
    }
   ],
   "source": [
    "top_gross = df.sort_values(['Gross'], ascending = False)\n",
    "fig, ax = plt.subplots(figsize = (23,5))\n",
    "\n",
    "plt.title('Top 7 Gross Movies', fontsize = 15, fontweight = 'bold')\n",
    "plt.xlabel('Movies', fontsize = 10, fontweight = 'bold')\n",
    "plt.ylabel ('Gross', fontsize = 10, fontweight = 'bold')\n",
    "sns.barplot(x=top_gross['Movie'][:7], y=top_gross['Gross'][:7], palette = 'hls')"
   ]
  },
  {
   "cell_type": "code",
   "execution_count": 58,
   "id": "b05f863a",
   "metadata": {},
   "outputs": [
    {
     "data": {
      "text/plain": [
       "<function matplotlib.pyplot.show(close=None, block=None)>"
      ]
     },
     "execution_count": 58,
     "metadata": {},
     "output_type": "execute_result"
    },
    {
     "data": {
      "image/png": "[encoded data removed]",
      "text/plain": [
       "<Figure size 720x432 with 1 Axes>"
      ]
     },
     "metadata": {
      "needs_background": "light"
     },
     "output_type": "display_data"
    }
   ],
   "source": [
    "fig, ax=plt.subplots(figsize=(10,6))\n",
    "\n",
    "sns.countplot(x=df['Certificate'], palette='hls')\n",
    "plt.title('Movies by Certification', fontsize = 15, fontweight = 'bold')\n",
    "plt.xlabel('Certificate',fontsize= 15, fontweight = 'bold')\n",
    "plt.xticks(rotation = 45)\n",
    "plt.ylabel('Movies',fontsize= 15, fontweight = 'bold')\n",
    "plt.show"
   ]
  },
  {
   "cell_type": "code",
   "execution_count": 59,
   "id": "78d7deb7",
   "metadata": {},
   "outputs": [],
   "source": [
    "#which genre movies has max gross"
   ]
  },
  {
   "cell_type": "code",
   "execution_count": 60,
   "id": "e01a9f4f",
   "metadata": {},
   "outputs": [],
   "source": [
    "#change in runtime over years"
   ]
  },
  {
   "cell_type": "code",
   "execution_count": 61,
   "id": "1e351ce5",
   "metadata": {},
   "outputs": [],
   "source": [
    "#actor who made max movies"
   ]
  },
  {
   "cell_type": "code",
   "execution_count": 62,
   "id": "e9cdcba0",
   "metadata": {},
   "outputs": [],
   "source": [
    "#directors who made max movies "
   ]
  },
  {
   "cell_type": "code",
   "execution_count": 63,
   "id": "4bd2d1dc",
   "metadata": {},
   "outputs": [
    {
     "data": {
      "image/png": "[encoded data removed]",
      "text/plain": [
       "<Figure size 1440x1080 with 4 Axes>"
      ]
     },
     "metadata": {
      "needs_background": "light"
     },
     "output_type": "display_data"
    }
   ],
   "source": [
    "#Stars with most Occurences in movies\n",
    "stars=['Star1','Star2','Star3','Star4']\n",
    "fig,axs=plt.subplots(4,1,figsize=(20,15))\n",
    "ax=0\n",
    "for x in stars:\n",
    "    axs[ax].bar(df[x].value_counts()[:10].index,df[x].value_counts()[:10])\n",
    "    axs[ax].set_title(x)\n",
    "    axs[ax].set_ylabel(\"Appearances\", weight = \"bold\")\n",
    "    ax+=1\n",
    "    plt.tight_layout()"
   ]
  },
  {
   "cell_type": "code",
   "execution_count": 64,
   "id": "5b3d6fef",
   "metadata": {},
   "outputs": [
    {
     "ename": "SyntaxError",
     "evalue": "expression cannot contain assignment, perhaps you meant \"==\"? (4059608494.py, line 1)",
     "output_type": "error",
     "traceback": [
      "\u001b[1;36m  Input \u001b[1;32mIn [64]\u001b[1;36m\u001b[0m\n\u001b[1;33m    Certificate1 = IF(imdb_top_1000[Certificate]in{\"16\",\"G\",\"PG\",\"TV-Y\",\"TV-Y7\",\"TV-G\",\"TV-PG\",\"U\",\"R\", \"NC-17\",\"TV-MA\"},\"U\",IF(imdb_top_1000[Certificate]in{\"PG-13\",\"TV-14\",\"U/A\",\"UA\"},\"UA\",IF(imdb_top_1000[Certificate]in{\"nan\",\"Passed\",\"Unrated\",\"GP\",\"Approved\"},\"\",IF(imdb_top_1000[Certificate]=\"A\",\"A\"))))\u001b[0m\n\u001b[1;37m                                                                                                                                                                                                                                                                              ^\u001b[0m\n\u001b[1;31mSyntaxError\u001b[0m\u001b[1;31m:\u001b[0m expression cannot contain assignment, perhaps you meant \"==\"?\n"
     ]
    }
   ],
   "source": [
    "Certificate1 = IF(imdb_top_1000[Certificate]in{\"16\",\"G\",\"PG\",\"TV-Y\",\"TV-Y7\",\"TV-G\",\"TV-PG\",\"U\",\"R\", \"NC-17\",\"TV-MA\"},\"U\",IF(imdb_top_1000[Certificate]in{\"PG-13\",\"TV-14\",\"U/A\",\"UA\"},\"UA\",IF(imdb_top_1000[Certificate]in{\"nan\",\"Passed\",\"Unrated\",\"GP\",\"Approved\"},\"\",IF(imdb_top_1000[Certificate]=\"A\",\"A\"))))"
   ]
  },
  {
   "cell_type": "code",
   "execution_count": null,
   "id": "fd873c82",
   "metadata": {},
   "outputs": [],
   "source": [
    "Column = IF(ISBLANK(imdb[Gross]),AVERAGE(imdb[Gross]),imdb[Gross])\n"
   ]
  },
  {
   "cell_type": "code",
   "execution_count": null,
   "id": "bdb8fe96",
   "metadata": {},
   "outputs": [],
   "source": [
    "Column = IF(ISBLANK(FILTER(imdb,imdb[Director]=\"Akira Kurosawa\")),CALCULATE(AVERAGE(imdb[Gross]),imdb[Director]=\"Akira Kurosawa\"),imdb[Gross])"
   ]
  },
  {
   "cell_type": "code",
   "execution_count": null,
   "id": "177ec1e7",
   "metadata": {},
   "outputs": [],
   "source": []
  }
 ],
 "metadata": {
  "kernelspec": {
   "display_name": "Python 3 (ipykernel)",
   "language": "python",
   "name": "python3"
  },
  "language_info": {
   "codemirror_mode": {
    "name": "ipython",
    "version": 3
   },
   "file_extension": ".py",
   "mimetype": "text/x-python",
   "name": "python",
   "nbconvert_exporter": "python",
   "pygments_lexer": "ipython3",
   "version": "3.9.12"
  }
 },
 "nbformat": 4,
 "nbformat_minor": 5
}
